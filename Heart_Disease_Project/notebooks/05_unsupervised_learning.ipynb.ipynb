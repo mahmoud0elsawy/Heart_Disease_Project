{
 "cells": [
  {
   "cell_type": "code",
   "execution_count": null,
   "id": "a123aebd-a778-4991-9c5d-47e826f205d2",
   "metadata": {},
   "outputs": [],
   "source": [
    "import pandas as pd\n",
    "import numpy as np\n",
    "import matplotlib.pyplot as plt\n",
    "import seaborn as sns\n",
    "from sklearn.preprocessing import StandardScaler\n",
    "from sklearn.cluster import KMeans, AgglomerativeClustering\n",
    "from sklearn.decomposition import PCA\n",
    "from sklearn.pipeline import Pipeline\n",
    "from sklearn.metrics import silhouette_score\n",
    "import joblib"
   ]
  },
  {
   "cell_type": "code",
   "execution_count": null,
   "id": "8dc5cb50-b475-4252-8dd9-b0927f99f44f",
   "metadata": {},
   "outputs": [],
   "source": [
    "df = pd.read_csv(\"../data/heart_disease.csv\")\n",
    "X = df.drop(\"num\", axis=1)\n",
    "y = df[\"num\"]     "
   ]
  },
  {
   "cell_type": "code",
   "execution_count": null,
   "id": "5df4879b-c7d1-4bfd-9a8f-3586ed157043",
   "metadata": {},
   "outputs": [],
   "source": [
    "inertia = []\n",
    "K = range(2, 11)\n",
    "\n",
    "for k in K:\n",
    "    kmeans = KMeans(n_clusters=k, random_state=42)\n",
    "    kmeans.fit(X)\n",
    "    inertia.append(kmeans.inertia_)"
   ]
  },
  {
   "cell_type": "code",
   "execution_count": null,
   "id": "bc0154be-b093-460e-a355-74ff0f820b6a",
   "metadata": {},
   "outputs": [],
   "source": [
    "plt.figure(figsize=(8,5))\n",
    "plt.plot(K, inertia, marker=\"o\")\n",
    "plt.title(\"Elbow Method for Optimal k\")\n",
    "plt.xlabel(\"Number of Clusters (k)\")\n",
    "plt.ylabel(\"Inertia\")\n",
    "plt.grid()\n",
    "plt.show()"
   ]
  },
  {
   "cell_type": "code",
   "execution_count": null,
   "id": "f5fc1c92-b964-42c3-9e9d-073d6df6fd8c",
   "metadata": {},
   "outputs": [],
   "source": [
    "for k in [2, 3, 4]:\n",
    "    kmeans = KMeans(n_clusters=k, random_state=42)\n",
    "    labels = kmeans.fit_predict(X)\n",
    "    score = silhouette_score(X, labels)\n",
    "    print(f\"Silhouette Score for k={k}: {score:.3f}\")\n",
    "\n",
    "kmeans = KMeans(n_clusters=2, random_state=42)\n",
    "df[\"Cluster_KMeans\"] = kmeans.fit_predict(X)\n",
    "\n",
    "hier = AgglomerativeClustering(n_clusters=2)\n",
    "df[\"Cluster_Hierarchical\"] = hier.fit_predict(X)\n",
    "\n",
    "pca = PCA(n_components=2)\n",
    "X_pca = pca.fit_transform(X)"
   ]
  },
  {
   "cell_type": "code",
   "execution_count": null,
   "id": "2a34c7df-0051-459d-a9c5-0c06a1371b97",
   "metadata": {},
   "outputs": [],
   "source": [
    "plt.figure(figsize=(8,6))\n",
    "sns.scatterplot(x=X_pca[:,0], y=X_pca[:,1], hue=df[\"Cluster_KMeans\"], palette=\"Set1\")\n",
    "plt.title(\"KMeans Clusters (PCA reduced to 2D)\")\n",
    "plt.show()"
   ]
  },
  {
   "cell_type": "code",
   "execution_count": null,
   "id": "c20aded5-8dd2-4fae-9e6e-d64dfba63ef5",
   "metadata": {},
   "outputs": [],
   "source": [
    "plt.figure(figsize=(8,6))\n",
    "sns.scatterplot(x=X_pca[:,0], y=X_pca[:,1], hue=df[\"Cluster_Hierarchical\"], palette=\"Set2\")\n",
    "plt.title(\"Hierarchical Clusters (PCA reduced to 2D)\")\n",
    "plt.show()"
   ]
  },
  {
   "cell_type": "code",
   "execution_count": null,
   "id": "e23e4449-4b2a-4d50-9a35-82993dd64b5e",
   "metadata": {},
   "outputs": [],
   "source": [
    "pipeline = Pipeline([\n",
    "    (\"scaler\", StandardScaler()),\n",
    "    (\"kmeans\", KMeans(n_clusters=2, random_state=42))\n",
    "])\n",
    "pipeline.fit(X)"
   ]
  },
  {
   "cell_type": "code",
   "execution_count": null,
   "id": "be8f0bb8-0df2-4dbe-a5b7-3697c7bff90f",
   "metadata": {},
   "outputs": [],
   "source": [
    "joblib.dump(pipeline, \"../models/kmeans_model.pkl\")"
   ]
  }
 ],
 "metadata": {
  "kernelspec": {
   "display_name": "Python 3 (ipykernel)",
   "language": "python",
   "name": "python3"
  },
  "language_info": {
   "codemirror_mode": {
    "name": "ipython",
    "version": 3
   },
   "file_extension": ".py",
   "mimetype": "text/x-python",
   "name": "python",
   "nbconvert_exporter": "python",
   "pygments_lexer": "ipython3",
   "version": "3.12.7"
  }
 },
 "nbformat": 4,
 "nbformat_minor": 5
}
