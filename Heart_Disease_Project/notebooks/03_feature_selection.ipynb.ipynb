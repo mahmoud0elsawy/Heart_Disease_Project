{
 "cells": [
  {
   "cell_type": "code",
   "execution_count": null,
   "id": "9ed0e73d-a56b-4fed-bcf1-2597d8b0565d",
   "metadata": {},
   "outputs": [],
   "source": [
    "import pandas as pd\n",
    "from sklearn.feature_selection import SelectKBest, f_classif\n",
    "import matplotlib.pyplot as plt"
   ]
  },
  {
   "cell_type": "code",
   "execution_count": null,
   "id": "df7d1edb-a88f-42fa-99b6-1984a95e13fd",
   "metadata": {},
   "outputs": [],
   "source": [
    "df = pd.read_csv(\"../data/heart_disease.csv\")\n",
    "X = df.drop(\"num\", axis=1)\n",
    "y = df[\"num\"]          "
   ]
  },
  {
   "cell_type": "code",
   "execution_count": null,
   "id": "99b6ffad-cd0d-4e00-a229-050d9ae8708c",
   "metadata": {},
   "outputs": [],
   "source": [
    "selector = SelectKBest(score_func=f_classif, k=\"all\")\n",
    "fit = selector.fit(X, y)\n",
    "\n",
    "scores = pd.DataFrame({\n",
    "    \"Feature\": X.columns,\n",
    "    \"Score\": fit.scores_\n",
    "}).sort_values(by=\"Score\", ascending=False)\n",
    "scores"
   ]
  },
  {
   "cell_type": "code",
   "execution_count": null,
   "id": "1018c8ae-c0b5-4114-87da-f051aa0f3295",
   "metadata": {},
   "outputs": [],
   "source": [
    "plt.figure(figsize=(10,6))\n",
    "plt.barh(scores[\"Feature\"], scores[\"Score\"], color=\"skyblue\")\n",
    "plt.xlabel(\"Score\")\n",
    "plt.title(\"Feature Importance using ANOVA F-test\")\n",
    "plt.gca().invert_yaxis()\n",
    "plt.show()"
   ]
  },
  {
   "cell_type": "code",
   "execution_count": null,
   "id": "8f720dce-4a92-469d-b3e2-fdd3ba0e39e0",
   "metadata": {},
   "outputs": [],
   "source": [
    "selector = SelectKBest(score_func=f_classif, k=7)\n",
    "X_reduced = selector.fit_transform(X, y)\n",
    "\n",
    "selected_features = X.columns[selector.get_support()]\n",
    "print(\"Selected Features:\", selected_features.tolist())"
   ]
  },
  {
   "cell_type": "code",
   "execution_count": null,
   "id": "bbe540fc-6644-4a00-8604-355a6fa31cca",
   "metadata": {},
   "outputs": [],
   "source": [
    "X_reduced_df = pd.DataFrame(X_reduced, columns=selected_features)"
   ]
  },
  {
   "cell_type": "code",
   "execution_count": null,
   "id": "b2ebc56d-fd7f-4c19-85ec-2e22b65f79dc",
   "metadata": {},
   "outputs": [],
   "source": [
    "final_df = pd.concat([X_reduced_df, y.reset_index(drop=True)], axis=1)\n",
    "final_df.to_csv(\"../data/heart_disease.csv\", index=False)"
   ]
  }
 ],
 "metadata": {
  "kernelspec": {
   "display_name": "Python 3 (ipykernel)",
   "language": "python",
   "name": "python3"
  },
  "language_info": {
   "codemirror_mode": {
    "name": "ipython",
    "version": 3
   },
   "file_extension": ".py",
   "mimetype": "text/x-python",
   "name": "python",
   "nbconvert_exporter": "python",
   "pygments_lexer": "ipython3",
   "version": "3.12.7"
  }
 },
 "nbformat": 4,
 "nbformat_minor": 5
}
