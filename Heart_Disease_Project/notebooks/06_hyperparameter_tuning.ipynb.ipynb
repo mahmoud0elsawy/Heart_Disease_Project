{
 "cells": [
  {
   "cell_type": "code",
   "execution_count": 15,
   "id": "d0aba001-0e54-4d20-bbe3-aaac53d7fd9a",
   "metadata": {},
   "outputs": [],
   "source": [
    "import pandas as pd\n",
    "from sklearn.model_selection import train_test_split, GridSearchCV\n",
    "from sklearn.preprocessing import StandardScaler\n",
    "from sklearn.linear_model import LogisticRegression\n",
    "from sklearn.tree import DecisionTreeClassifier\n",
    "from sklearn.ensemble import RandomForestClassifier\n",
    "from sklearn.svm import SVC\n",
    "from sklearn.metrics import accuracy_score, classification_report\n",
    "import joblib"
   ]
  },
  {
   "cell_type": "code",
   "execution_count": 16,
   "id": "d367dbd7-ce8e-4a7c-8059-83a6a7fe9fbf",
   "metadata": {},
   "outputs": [],
   "source": [
    "df = pd.read_csv(\"../data/heart_disease.csv\")\n",
    "X = df.drop(\"num\", axis=1)\n",
    "y = df[\"num\"]     "
   ]
  },
  {
   "cell_type": "code",
   "execution_count": 17,
   "id": "1b836c53-76f9-4cd6-8d3e-a253cd413f22",
   "metadata": {},
   "outputs": [],
   "source": [
    "X_train, X_test, y_train, y_test = train_test_split(\n",
    "    X, y, test_size=0.2, random_state=42\n",
    ")"
   ]
  },
  {
   "cell_type": "code",
   "execution_count": 18,
   "id": "0f92542f-6107-4b0c-be62-82f23dc7b586",
   "metadata": {},
   "outputs": [],
   "source": [
    "scaler = StandardScaler()\n",
    "X_train_scaled = scaler.fit_transform(X_train)\n",
    "X_test_scaled = scaler.transform(X_test)"
   ]
  },
  {
   "cell_type": "code",
   "execution_count": 19,
   "id": "848e4821-46d3-4f81-81c5-e75d0d869f97",
   "metadata": {},
   "outputs": [],
   "source": [
    "param_grid = {\n",
    "    \"Logistic Regression\": {\n",
    "        \"model\": LogisticRegression(max_iter=2000),\n",
    "        \"params\": {\n",
    "            \"C\": [0.01, 0.1, 1, 10],\n",
    "            \"solver\": [\"liblinear\", \"lbfgs\"]\n",
    "        }\n",
    "    },\n",
    "    \"Decision Tree\": {\n",
    "        \"model\": DecisionTreeClassifier(random_state=42),\n",
    "        \"params\": {\n",
    "            \"max_depth\": [3, 5, 10, None],\n",
    "            \"min_samples_split\": [2, 5, 10]\n",
    "        }\n",
    "    },\n",
    "    \"Random Forest\": {\n",
    "        \"model\": RandomForestClassifier(random_state=42),\n",
    "        \"params\": {\n",
    "            \"n_estimators\": [50, 100, 200],\n",
    "            \"max_depth\": [5, 10, None],\n",
    "            \"min_samples_split\": [2, 5, 10]\n",
    "        }\n",
    "    },\n",
    "    \"SVM\": {\n",
    "        \"model\": SVC(),\n",
    "        \"params\": {\n",
    "            \"C\": [0.1, 1, 10],\n",
    "            \"kernel\": [\"linear\", \"rbf\", \"poly\"]\n",
    "        }\n",
    "    }\n",
    "}"
   ]
  },
  {
   "cell_type": "code",
   "execution_count": 20,
   "id": "da505138-e7cf-419b-9b01-7aec1baf5ca7",
   "metadata": {},
   "outputs": [
    {
     "name": "stdout",
     "output_type": "stream",
     "text": [
      "\n",
      " Running GridSearch for Logistic Regression...\n",
      "Best Params: {'C': 1, 'solver': 'lbfgs'}\n",
      "Accuracy: 0.65\n",
      "              precision    recall  f1-score   support\n",
      "\n",
      "           0       0.82      1.00      0.90        36\n",
      "           1       0.50      0.22      0.31         9\n",
      "           2       0.25      0.20      0.22         5\n",
      "           3       0.00      0.00      0.00         7\n",
      "           4       0.00      0.00      0.00         3\n",
      "\n",
      "    accuracy                           0.65        60\n",
      "   macro avg       0.31      0.28      0.29        60\n",
      "weighted avg       0.59      0.65      0.60        60\n",
      "\n",
      "\n",
      " Running GridSearch for Decision Tree...\n",
      "Best Params: {'max_depth': 3, 'min_samples_split': 2}\n",
      "Accuracy: 0.6333333333333333\n",
      "              precision    recall  f1-score   support\n",
      "\n",
      "           0       0.81      0.97      0.89        36\n",
      "           1       0.00      0.00      0.00         9\n",
      "           2       0.00      0.00      0.00         5\n",
      "           3       0.19      0.43      0.26         7\n",
      "           4       0.00      0.00      0.00         3\n",
      "\n",
      "    accuracy                           0.63        60\n",
      "   macro avg       0.20      0.28      0.23        60\n",
      "weighted avg       0.51      0.63      0.56        60\n",
      "\n",
      "\n",
      " Running GridSearch for Random Forest...\n"
     ]
    },
    {
     "name": "stderr",
     "output_type": "stream",
     "text": [
      "C:\\Users\\mahmo\\anaconda3\\Lib\\site-packages\\sklearn\\metrics\\_classification.py:1531: UndefinedMetricWarning: Precision is ill-defined and being set to 0.0 in labels with no predicted samples. Use `zero_division` parameter to control this behavior.\n",
      "  _warn_prf(average, modifier, f\"{metric.capitalize()} is\", len(result))\n",
      "C:\\Users\\mahmo\\anaconda3\\Lib\\site-packages\\sklearn\\metrics\\_classification.py:1531: UndefinedMetricWarning: Precision is ill-defined and being set to 0.0 in labels with no predicted samples. Use `zero_division` parameter to control this behavior.\n",
      "  _warn_prf(average, modifier, f\"{metric.capitalize()} is\", len(result))\n",
      "C:\\Users\\mahmo\\anaconda3\\Lib\\site-packages\\sklearn\\metrics\\_classification.py:1531: UndefinedMetricWarning: Precision is ill-defined and being set to 0.0 in labels with no predicted samples. Use `zero_division` parameter to control this behavior.\n",
      "  _warn_prf(average, modifier, f\"{metric.capitalize()} is\", len(result))\n"
     ]
    },
    {
     "name": "stdout",
     "output_type": "stream",
     "text": [
      "Best Params: {'max_depth': 10, 'min_samples_split': 2, 'n_estimators': 50}\n",
      "Accuracy: 0.6166666666666667\n",
      "              precision    recall  f1-score   support\n",
      "\n",
      "           0       0.80      0.92      0.86        36\n",
      "           1       0.33      0.22      0.27         9\n",
      "           2       0.00      0.00      0.00         5\n",
      "           3       0.25      0.29      0.27         7\n",
      "           4       0.00      0.00      0.00         3\n",
      "\n",
      "    accuracy                           0.62        60\n",
      "   macro avg       0.28      0.28      0.28        60\n",
      "weighted avg       0.56      0.62      0.59        60\n",
      "\n",
      "\n",
      " Running GridSearch for SVM...\n",
      "Best Params: {'C': 0.1, 'kernel': 'linear'}\n",
      "Accuracy: 0.6333333333333333\n",
      "              precision    recall  f1-score   support\n",
      "\n",
      "           0       0.78      1.00      0.88        36\n",
      "           1       0.33      0.11      0.17         9\n",
      "           2       0.14      0.20      0.17         5\n",
      "           3       0.00      0.00      0.00         7\n",
      "           4       0.00      0.00      0.00         3\n",
      "\n",
      "    accuracy                           0.63        60\n",
      "   macro avg       0.25      0.26      0.24        60\n",
      "weighted avg       0.53      0.63      0.57        60\n",
      "\n"
     ]
    },
    {
     "name": "stderr",
     "output_type": "stream",
     "text": [
      "C:\\Users\\mahmo\\anaconda3\\Lib\\site-packages\\sklearn\\metrics\\_classification.py:1531: UndefinedMetricWarning: Precision is ill-defined and being set to 0.0 in labels with no predicted samples. Use `zero_division` parameter to control this behavior.\n",
      "  _warn_prf(average, modifier, f\"{metric.capitalize()} is\", len(result))\n",
      "C:\\Users\\mahmo\\anaconda3\\Lib\\site-packages\\sklearn\\metrics\\_classification.py:1531: UndefinedMetricWarning: Precision is ill-defined and being set to 0.0 in labels with no predicted samples. Use `zero_division` parameter to control this behavior.\n",
      "  _warn_prf(average, modifier, f\"{metric.capitalize()} is\", len(result))\n",
      "C:\\Users\\mahmo\\anaconda3\\Lib\\site-packages\\sklearn\\metrics\\_classification.py:1531: UndefinedMetricWarning: Precision is ill-defined and being set to 0.0 in labels with no predicted samples. Use `zero_division` parameter to control this behavior.\n",
      "  _warn_prf(average, modifier, f\"{metric.capitalize()} is\", len(result))\n"
     ]
    }
   ],
   "source": [
    "best_models = {}\n",
    "for name, mp in param_grid.items():\n",
    "    print(f\"\\n Running GridSearch for {name}...\")\n",
    "    clf = GridSearchCV(mp[\"model\"], mp[\"params\"], cv=5, scoring=\"accuracy\")\n",
    "    clf.fit(X_train_scaled, y_train)\n",
    "    \n",
    "    print(\"Best Params:\", clf.best_params_)\n",
    "    y_pred = clf.predict(X_test_scaled)\n",
    "    \n",
    "    acc = accuracy_score(y_test, y_pred)\n",
    "    print(\"Accuracy:\", acc)\n",
    "    print(classification_report(y_test, y_pred))\n",
    "    \n",
    "    best_models[name] = {\n",
    "        \"best_model\": clf.best_estimator_,\n",
    "        \"accuracy\": acc\n",
    "    }"
   ]
  },
  {
   "cell_type": "code",
   "execution_count": 21,
   "id": "35a837ff-60cd-4be5-92d5-195b3d04e83d",
   "metadata": {},
   "outputs": [
    {
     "name": "stdout",
     "output_type": "stream",
     "text": [
      "\n",
      " Best Model: Logistic Regression\n",
      "Accuracy: 0.65\n"
     ]
    }
   ],
   "source": [
    "best_model_name = max(best_models, key=lambda x: best_models[x][\"accuracy\"])\n",
    "print(\"\\n Best Model:\", best_model_name)\n",
    "print(\"Accuracy:\", best_models[best_model_name][\"accuracy\"])"
   ]
  },
  {
   "cell_type": "code",
   "execution_count": 22,
   "id": "0098e66b-6ac9-463b-ac8e-003b0474f481",
   "metadata": {},
   "outputs": [
    {
     "data": {
      "text/plain": [
       "['../models/scaler.pkl']"
      ]
     },
     "execution_count": 22,
     "metadata": {},
     "output_type": "execute_result"
    }
   ],
   "source": [
    "joblib.dump('LogisticRegression', \"../models/final_model.pkl\")\n",
    "joblib.dump('scaler', \"../models/scaler.pkl\")"
   ]
  }
 ],
 "metadata": {
  "kernelspec": {
   "display_name": "Python 3 (ipykernel)",
   "language": "python",
   "name": "python3"
  },
  "language_info": {
   "codemirror_mode": {
    "name": "ipython",
    "version": 3
   },
   "file_extension": ".py",
   "mimetype": "text/x-python",
   "name": "python",
   "nbconvert_exporter": "python",
   "pygments_lexer": "ipython3",
   "version": "3.12.7"
  }
 },
 "nbformat": 4,
 "nbformat_minor": 5
}
