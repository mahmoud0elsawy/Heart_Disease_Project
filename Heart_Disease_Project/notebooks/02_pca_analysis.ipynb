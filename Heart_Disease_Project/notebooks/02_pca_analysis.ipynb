{
 "cells": [
  {
   "cell_type": "code",
   "execution_count": null,
   "id": "d87a2d33-6047-4f53-9870-adc39a7b82ff",
   "metadata": {},
   "outputs": [],
   "source": [
    "import pandas as pd\n",
    "import matplotlib.pyplot as plt\n",
    "from sklearn.decomposition import PCA\n",
    "import seaborn as sns"
   ]
  },
  {
   "cell_type": "code",
   "execution_count": null,
   "id": "777c6f0c-7181-4045-9663-b29d6e730243",
   "metadata": {},
   "outputs": [],
   "source": [
    "df = pd.read_csv(\"../data/heart_disease.csv\")\n",
    "X = df.drop(\"num\", axis=1)\n",
    "y = df[\"num\"]              "
   ]
  },
  {
   "cell_type": "code",
   "execution_count": null,
   "id": "973ddc41-e360-4d4c-896d-bcfb2002e8d4",
   "metadata": {},
   "outputs": [],
   "source": [
    "pca = PCA() \n",
    "X_pca = pca.fit_transform(X)"
   ]
  },
  {
   "cell_type": "code",
   "execution_count": null,
   "id": "abd41751-ce34-45ba-b722-d9aa8e031140",
   "metadata": {},
   "outputs": [],
   "source": [
    "explained_variance = pca.explained_variance_ratio_\n",
    "print(explained_variance)\n",
    "print(\"Total explained variance:\", explained_variance.sum())\n"
   ]
  },
  {
   "cell_type": "code",
   "execution_count": null,
   "id": "9f49df36-4b05-48de-8cf0-c9adfe7e7c91",
   "metadata": {},
   "outputs": [],
   "source": [
    "plt.figure(figsize=(8,5))\n",
    "plt.plot(range(1, len(explained_variance)+1), explained_variance.cumsum(), marker='o')\n",
    "plt.title(\"PCA - Cumulative Explained Variance\")\n",
    "plt.xlabel(\"Number of Components\")\n",
    "plt.ylabel(\"Cumulative Explained Variance\")\n",
    "plt.grid()\n",
    "plt.show()"
   ]
  },
  {
   "cell_type": "code",
   "execution_count": null,
   "id": "e44dc741-562d-49ec-8222-a8d8c90204af",
   "metadata": {},
   "outputs": [],
   "source": [
    "pca = PCA(n_components=8)\n",
    "X_reduced = pca.fit_transform(X)"
   ]
  },
  {
   "cell_type": "code",
   "execution_count": null,
   "id": "f078bce3-9ca3-435c-a973-537fb94edc8f",
   "metadata": {},
   "outputs": [],
   "source": [
    "plt.figure(figsize=(8,6))\n",
    "sns.scatterplot(x=X_reduced[:,0], y=X_reduced[:,1], hue=y, palette=\"Set1\")\n",
    "plt.title(\"PCA - First two components\")\n",
    "plt.show()"
   ]
  },
  {
   "cell_type": "code",
   "execution_count": null,
   "id": "8c9b4622-668a-46c7-8e52-13288e160b98",
   "metadata": {},
   "outputs": [],
   "source": [
    "X_reduced_df = pd.DataFrame(X_reduced,\n",
    "                            columns=[f\"PC{i+1}\" for i in range(X_reduced.shape[1])])\n",
    "\n",
    "final_df = pd.concat([X_reduced_df, y.reset_index(drop=True)], axis=1)\n",
    "final_df.to_csv(\"../data/heart_disease.csv\", index=False)\n",
    "\n",
    "final_df.head()\n"
   ]
  }
 ],
 "metadata": {
  "kernelspec": {
   "display_name": "Python 3 (ipykernel)",
   "language": "python",
   "name": "python3"
  },
  "language_info": {
   "codemirror_mode": {
    "name": "ipython",
    "version": 3
   },
   "file_extension": ".py",
   "mimetype": "text/x-python",
   "name": "python",
   "nbconvert_exporter": "python",
   "pygments_lexer": "ipython3",
   "version": "3.12.7"
  }
 },
 "nbformat": 4,
 "nbformat_minor": 5
}
